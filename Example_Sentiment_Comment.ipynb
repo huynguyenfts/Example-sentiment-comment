{
  "nbformat": 4,
  "nbformat_minor": 0,
  "metadata": {
    "colab": {
      "name": "Example-Sentiment-Comment.ipynb",
      "version": "0.3.2",
      "provenance": [],
      "collapsed_sections": [],
      "include_colab_link": true
    },
    "kernelspec": {
      "name": "python3",
      "display_name": "Python 3"
    }
  },
  "cells": [
    {
      "cell_type": "markdown",
      "metadata": {
        "id": "view-in-github",
        "colab_type": "text"
      },
      "source": [
        "<a href=\"https://colab.research.google.com/github/huynguyenfts/Example-sentiment-comment/blob/master/Example_Sentiment_Comment.ipynb\" target=\"_parent\"><img src=\"https://colab.research.google.com/assets/colab-badge.svg\" alt=\"Open In Colab\"/></a>"
      ]
    },
    {
      "metadata": {
        "id": "4qeHRBGyLdVe",
        "colab_type": "code",
        "colab": {
          "base_uri": "https://localhost:8080/",
          "height": 119
        },
        "outputId": "440b7dae-17ae-4650-d5df-0a92e84f6be4"
      },
      "cell_type": "code",
      "source": [
        "!pip install -q xlrd\n",
        "!git clone https://github.com/huynguyenfts/Example-sentiment-comment.git"
      ],
      "execution_count": 1,
      "outputs": [
        {
          "output_type": "stream",
          "text": [
            "Cloning into 'Example-sentiment-comment'...\n",
            "remote: Enumerating objects: 16, done.\u001b[K\n",
            "remote: Counting objects: 100% (16/16), done.\u001b[K\n",
            "remote: Compressing objects: 100% (13/13), done.\u001b[K\n",
            "remote: Total 16 (delta 3), reused 9 (delta 1), pack-reused 0\u001b[K\n",
            "Unpacking objects: 100% (16/16), done.\n"
          ],
          "name": "stdout"
        }
      ]
    },
    {
      "metadata": {
        "id": "I-BDiPlHNBVG",
        "colab_type": "text"
      },
      "cell_type": "markdown",
      "source": [
        "**Clone git repo **"
      ]
    },
    {
      "metadata": {
        "id": "ARW92OvdNM2G",
        "colab_type": "code",
        "colab": {
          "base_uri": "https://localhost:8080/",
          "height": 34
        },
        "outputId": "86ab6cbd-d111-43f8-8d90-0af763316136"
      },
      "cell_type": "code",
      "source": [
        "!ls"
      ],
      "execution_count": 2,
      "outputs": [
        {
          "output_type": "stream",
          "text": [
            "Example-sentiment-comment  sample_data\n"
          ],
          "name": "stdout"
        }
      ]
    },
    {
      "metadata": {
        "id": "_wNJX1uEOATJ",
        "colab_type": "code",
        "colab": {}
      },
      "cell_type": "code",
      "source": [
        "import pandas as pd\n",
        "from sklearn.linear_model import LogisticRegression, RidgeClassifier\n",
        "from sklearn.metrics import accuracy_score"
      ],
      "execution_count": 0,
      "outputs": []
    },
    {
      "metadata": {
        "id": "SJNgjjz9ODgH",
        "colab_type": "code",
        "colab": {}
      },
      "cell_type": "code",
      "source": [
        "class DataSource(object):\n",
        "\n",
        "    def _load_raw_data(self, filename, is_train=True):\n",
        "\n",
        "        a = []\n",
        "        b = []\n",
        "\n",
        "        regex = 'train_'\n",
        "        if not is_train:\n",
        "            regex = 'test_'\n",
        "\n",
        "        with open(filename, 'r') as file:\n",
        "            for line in file:\n",
        "                if regex in line:\n",
        "                    b.append(a)\n",
        "                    a = [line]\n",
        "                elif line != '\\n':\n",
        "                    a.append(line)\n",
        "\n",
        "        b.append(a)\n",
        "\n",
        "        return b[1:]\n",
        "\n",
        "    def _create_row(self, sample, is_train=True):\n",
        "\n",
        "        d = {}\n",
        "        d['id'] = sample[0].replace('\\n', '')\n",
        "        review = \"\"\n",
        "\n",
        "        if is_train:\n",
        "            for clause in sample[1:-1]:\n",
        "                review += clause.replace('\\n', '').strip()\n",
        "            d['label'] = int(sample[-1].replace('\\n', ''))\n",
        "        else:\n",
        "            for clause in sample[1:]:\n",
        "                review += clause.replace('\\n', '').strip()\n",
        "\n",
        "        d['review'] = review\n",
        "\n",
        "        return d\n",
        "\n",
        "    def load_data(self, filename, is_train=True):\n",
        "\n",
        "        raw_data = self._load_raw_data(filename, is_train)\n",
        "        lst = []\n",
        "\n",
        "        for row in raw_data:\n",
        "            lst.append(self._create_row(row, is_train))\n",
        "\n",
        "        return lst\n"
      ],
      "execution_count": 0,
      "outputs": []
    },
    {
      "metadata": {
        "id": "ZGZiJMUxOuYR",
        "colab_type": "code",
        "colab": {
          "base_uri": "https://localhost:8080/",
          "height": 34
        },
        "outputId": "d0c2066a-875b-48fd-9bdb-f38fe93e8f61"
      },
      "cell_type": "code",
      "source": [
        "!ls"
      ],
      "execution_count": 6,
      "outputs": [
        {
          "output_type": "stream",
          "text": [
            "Example-sentiment-comment  sample_data\n"
          ],
          "name": "stdout"
        }
      ]
    },
    {
      "metadata": {
        "id": "AaIw50EZOYER",
        "colab_type": "code",
        "colab": {
          "base_uri": "https://localhost:8080/",
          "height": 122
        },
        "outputId": "6866cbbe-1f91-4f65-a5a4-ca7c07b4f557"
      },
      "cell_type": "code",
      "source": [
        "ds = DataSource()\n",
        "train_data = pd.DataFrame(ds.load_data('Example-sentiment-comment/train.crash'))\n",
        "test_data = pd.DataFrame(ds.load_data('Example-sentiment-comment/test.crash', is_train=False))\n",
        "\n",
        "from sklearn.feature_extraction.text import TfidfVectorizer\n",
        "from sklearn.model_selection import train_test_split\n",
        "\n",
        "vectorizer = TfidfVectorizer(max_features=100000, ngram_range=(1, 3))\n",
        "\n",
        "x_train, x_val, y_train, y_val = train_test_split(train_data.review, train_data.label, test_size=0.3,\n",
        "                                                  random_state=42)\n",
        "\n",
        "vectorizer.fit(x_train)\n",
        "x_tfidf_train = vectorizer.transform(x_train)\n",
        "x_tfidf_val = vectorizer.transform(x_val)\n",
        "\n",
        "model = LogisticRegression()\n",
        "print(\"Train model.......\")\n",
        "sentiment_fit = model.fit(x_tfidf_train, y_train)\n",
        "print(\"Predict ......\")\n",
        "y_pred = sentiment_fit.predict(x_tfidf_val)\n",
        "accuracy = accuracy_score(y_val, y_pred)\n",
        "print(\"accuracy score: {0:.2f}%\".format(accuracy * 100))"
      ],
      "execution_count": 9,
      "outputs": [
        {
          "output_type": "stream",
          "text": [
            "Train model.......\n"
          ],
          "name": "stdout"
        },
        {
          "output_type": "stream",
          "text": [
            "/usr/local/lib/python3.6/dist-packages/sklearn/linear_model/logistic.py:433: FutureWarning: Default solver will be changed to 'lbfgs' in 0.22. Specify a solver to silence this warning.\n",
            "  FutureWarning)\n"
          ],
          "name": "stderr"
        },
        {
          "output_type": "stream",
          "text": [
            "Predict ......\n",
            "accuracy score: 89.00%\n"
          ],
          "name": "stdout"
        }
      ]
    },
    {
      "metadata": {
        "id": "o0Wm3E02QXIy",
        "colab_type": "code",
        "colab": {}
      },
      "cell_type": "code",
      "source": [
        ""
      ],
      "execution_count": 0,
      "outputs": []
    },
    {
      "metadata": {
        "id": "K5TLZaVFQXzC",
        "colab_type": "code",
        "colab": {}
      },
      "cell_type": "code",
      "source": [
        ""
      ],
      "execution_count": 0,
      "outputs": []
    }
  ]
}