{
  "nbformat": 4,
  "nbformat_minor": 0,
  "metadata": {
    "colab": {
      "name": "Example-Sentiment-Comment.ipynb",
      "version": "0.3.2",
      "provenance": [],
      "collapsed_sections": [],
      "toc_visible": true,
      "include_colab_link": true
    },
    "kernelspec": {
      "name": "python3",
      "display_name": "Python 3"
    }
  },
  "cells": [
    {
      "cell_type": "markdown",
      "metadata": {
        "id": "view-in-github",
        "colab_type": "text"
      },
      "source": [
        "<a href=\"https://colab.research.google.com/github/huynguyenfts/Example-sentiment-comment/blob/master/Example_Sentiment_Comment.ipynb\" target=\"_parent\"><img src=\"https://colab.research.google.com/assets/colab-badge.svg\" alt=\"Open In Colab\"/></a>"
      ]
    },
    {
      "metadata": {
        "id": "41udASGIk7R4",
        "colab_type": "text"
      },
      "cell_type": "markdown",
      "source": [
        "# **Sentiment comment by ML cơ bản**"
      ]
    },
    {
      "metadata": {
        "id": "I-BDiPlHNBVG",
        "colab_type": "text"
      },
      "cell_type": "markdown",
      "source": [
        "**1. Clone git repo **"
      ]
    },
    {
      "metadata": {
        "id": "4qeHRBGyLdVe",
        "colab_type": "code",
        "outputId": "780cad55-b206-4fb3-f2a4-6fc8ec500379",
        "colab": {
          "base_uri": "https://localhost:8080/",
          "height": 119
        }
      },
      "cell_type": "code",
      "source": [
        "!pip install -q xlrd\n",
        "!git clone https://github.com/huynguyenfts/Example-sentiment-comment.git"
      ],
      "execution_count": 1,
      "outputs": [
        {
          "output_type": "stream",
          "text": [
            "Cloning into 'Example-sentiment-comment'...\n",
            "remote: Enumerating objects: 34, done.\u001b[K\n",
            "remote: Counting objects: 100% (34/34), done.\u001b[K\n",
            "remote: Compressing objects: 100% (30/30), done.\u001b[K\n",
            "remote: Total 34 (delta 14), reused 11 (delta 2), pack-reused 0\u001b[K\n",
            "Unpacking objects: 100% (34/34), done.\n"
          ],
          "name": "stdout"
        }
      ]
    },
    {
      "metadata": {
        "id": "RmkbyN1CYlA3",
        "colab_type": "code",
        "outputId": "571a6f86-5dfb-47d3-ab90-1a3de99b7d31",
        "colab": {
          "base_uri": "https://localhost:8080/",
          "height": 85
        }
      },
      "cell_type": "code",
      "source": [
        "%cd Example-sentiment-comment\n",
        "!ls"
      ],
      "execution_count": 2,
      "outputs": [
        {
          "output_type": "stream",
          "text": [
            "/content/Example-sentiment-comment\n",
            "basedline_model.py\t\t sample.csv\t\t  test.crash\n",
            "Example_Sentiment_Comment.ipynb  sentiment_comment.ipynb  train.crash\n",
            "README.md\t\t\t submission.csv\n"
          ],
          "name": "stdout"
        }
      ]
    },
    {
      "metadata": {
        "id": "BViaLe2qauZm",
        "colab_type": "text"
      },
      "cell_type": "markdown",
      "source": [
        "**2. Import thư viện**"
      ]
    },
    {
      "metadata": {
        "id": "_wNJX1uEOATJ",
        "colab_type": "code",
        "colab": {}
      },
      "cell_type": "code",
      "source": [
        "import pandas as pd\n",
        "from sklearn.linear_model import LogisticRegression, RidgeClassifier\n",
        "from sklearn.metrics import accuracy_score\n",
        "from sklearn.feature_extraction.text import TfidfVectorizer\n",
        "from sklearn.model_selection import train_test_split"
      ],
      "execution_count": 0,
      "outputs": []
    },
    {
      "metadata": {
        "id": "wjMjI8XAadpw",
        "colab_type": "text"
      },
      "cell_type": "markdown",
      "source": [
        "\b**3. Xử Lý data**"
      ]
    },
    {
      "metadata": {
        "id": "SJNgjjz9ODgH",
        "colab_type": "code",
        "colab": {}
      },
      "cell_type": "code",
      "source": [
        "class DataSource(object):\n",
        "\n",
        "    def _load_raw_data(self, filename, is_train=True):\n",
        "\n",
        "        a = []\n",
        "        b = []\n",
        "\n",
        "        regex = 'train_'\n",
        "        if not is_train:\n",
        "            regex = 'test_'\n",
        "\n",
        "        with open(filename, 'r') as file:\n",
        "            for line in file:\n",
        "                if regex in line:\n",
        "                    b.append(a)\n",
        "                    a = [line]\n",
        "                elif line != '\\n':\n",
        "                    a.append(line)\n",
        "\n",
        "        b.append(a)\n",
        "\n",
        "        return b[1:]\n",
        "\n",
        "    def _create_row(self, sample, is_train=True, dont_remove_space=True):\n",
        "\n",
        "        d = {}\n",
        "        d['id'] = sample[0].replace('\\n', '')\n",
        "        review = \"\"\n",
        "\n",
        "        if is_train:\n",
        "            for clause in sample[1:-1]:\n",
        "                review += clause.strip()\n",
        "#                 review += clause.replace('\\n', '').strip()\n",
        "#                 review += clause.replace('\\n', '').replace('.', ' ').replace(',', ' ').strip()\n",
        "            d['label'] = int(sample[-1].replace('\\n', ''))\n",
        "        else:\n",
        "            for clause in sample[1:]:\n",
        "                review += clause.replace('\\n', '').strip()\n",
        "\n",
        "        d['review'] = review\n",
        "\n",
        "        return d\n",
        "\n",
        "    def load_data(self, filename, is_train=True):\n",
        "\n",
        "        raw_data = self._load_raw_data(filename, is_train)\n",
        "        lst = []\n",
        "\n",
        "        for row in raw_data:\n",
        "            lst.append(self._create_row(row, is_train))\n",
        "\n",
        "        return lst\n"
      ],
      "execution_count": 0,
      "outputs": []
    },
    {
      "metadata": {
        "id": "i_uNjUR5tE8h",
        "colab_type": "code",
        "colab": {}
      },
      "cell_type": "code",
      "source": [
        "ds = DataSource()\n",
        "train_data = pd.DataFrame(ds.load_data('train.crash'))\n",
        "test_data = pd.DataFrame(ds.load_data('test.crash', is_train=False))"
      ],
      "execution_count": 0,
      "outputs": []
    },
    {
      "metadata": {
        "id": "u2_6fJ4AtuDR",
        "colab_type": "code",
        "outputId": "b6e85ffc-5dea-4e3a-dbc9-212af1789d96",
        "colab": {
          "base_uri": "https://localhost:8080/",
          "height": 686
        }
      },
      "cell_type": "code",
      "source": [
        "print(\"Train data\")\n",
        "train_data.head(20)"
      ],
      "execution_count": 6,
      "outputs": [
        {
          "output_type": "stream",
          "text": [
            "Train data\n"
          ],
          "name": "stdout"
        },
        {
          "output_type": "execute_result",
          "data": {
            "text/html": [
              "<div>\n",
              "<style scoped>\n",
              "    .dataframe tbody tr th:only-of-type {\n",
              "        vertical-align: middle;\n",
              "    }\n",
              "\n",
              "    .dataframe tbody tr th {\n",
              "        vertical-align: top;\n",
              "    }\n",
              "\n",
              "    .dataframe thead th {\n",
              "        text-align: right;\n",
              "    }\n",
              "</style>\n",
              "<table border=\"1\" class=\"dataframe\">\n",
              "  <thead>\n",
              "    <tr style=\"text-align: right;\">\n",
              "      <th></th>\n",
              "      <th>id</th>\n",
              "      <th>label</th>\n",
              "      <th>review</th>\n",
              "    </tr>\n",
              "  </thead>\n",
              "  <tbody>\n",
              "    <tr>\n",
              "      <th>0</th>\n",
              "      <td>train_000000</td>\n",
              "      <td>0</td>\n",
              "      <td>\"Dung dc sp tot cam onshop Đóng gói sản phẩm r...</td>\n",
              "    </tr>\n",
              "    <tr>\n",
              "      <th>1</th>\n",
              "      <td>train_000001</td>\n",
              "      <td>0</td>\n",
              "      <td>\" Chất lượng sản phẩm tuyệt vời   Son mịn nhưn...</td>\n",
              "    </tr>\n",
              "    <tr>\n",
              "      <th>2</th>\n",
              "      <td>train_000002</td>\n",
              "      <td>0</td>\n",
              "      <td>\" Chất lượng sản phẩm tuyệt vời nhưng k có hộp...</td>\n",
              "    </tr>\n",
              "    <tr>\n",
              "      <th>3</th>\n",
              "      <td>train_000003</td>\n",
              "      <td>1</td>\n",
              "      <td>\":(( Mình hơi thất vọng 1 chút vì mình đã kỳ v...</td>\n",
              "    </tr>\n",
              "    <tr>\n",
              "      <th>4</th>\n",
              "      <td>train_000004</td>\n",
              "      <td>1</td>\n",
              "      <td>\"Lần trước mình mua áo gió màu hồng rất ok mà ...</td>\n",
              "    </tr>\n",
              "    <tr>\n",
              "      <th>5</th>\n",
              "      <td>train_000005</td>\n",
              "      <td>0</td>\n",
              "      <td>\" Chất lượng sản phẩm tuyệt vời có điều không ...</td>\n",
              "    </tr>\n",
              "    <tr>\n",
              "      <th>6</th>\n",
              "      <td>train_000006</td>\n",
              "      <td>0</td>\n",
              "      <td>\"Đã nhận đc hàng rất nhanh mới đặt buổi tối mà...</td>\n",
              "    </tr>\n",
              "    <tr>\n",
              "      <th>7</th>\n",
              "      <td>train_000007</td>\n",
              "      <td>1</td>\n",
              "      <td>\"Các siêu phẩm thấy cấu hình toàn tựa tựa nhau...</td>\n",
              "    </tr>\n",
              "    <tr>\n",
              "      <th>8</th>\n",
              "      <td>train_000008</td>\n",
              "      <td>0</td>\n",
              "      <td>\"Hàng ship nhanh  chất lượng tốt  tư vấn nhiệt...</td>\n",
              "    </tr>\n",
              "    <tr>\n",
              "      <th>9</th>\n",
              "      <td>train_000009</td>\n",
              "      <td>1</td>\n",
              "      <td>\"Đồng hồ đẹp nhưng 1 cái đứt dây  1 cái k chạy...</td>\n",
              "    </tr>\n",
              "    <tr>\n",
              "      <th>10</th>\n",
              "      <td>train_000010</td>\n",
              "      <td>0</td>\n",
              "      <td>\" Chất lượng sản phẩm tuyệt vời y hình chụp đá...</td>\n",
              "    </tr>\n",
              "    <tr>\n",
              "      <th>11</th>\n",
              "      <td>train_000011</td>\n",
              "      <td>0</td>\n",
              "      <td>\"Hjhj shop giao hàng nhanh quá  Đẹp lắm ạ bé n...</td>\n",
              "    </tr>\n",
              "    <tr>\n",
              "      <th>12</th>\n",
              "      <td>train_000012</td>\n",
              "      <td>0</td>\n",
              "      <td>\"\"nhìn đẹp phết nhỉ  \"\"</td>\n",
              "    </tr>\n",
              "    <tr>\n",
              "      <th>13</th>\n",
              "      <td>train_000013</td>\n",
              "      <td>0</td>\n",
              "      <td>\"Đóng gói rất đẹp  Chất lượng sản phẩm rất tốt...</td>\n",
              "    </tr>\n",
              "    <tr>\n",
              "      <th>14</th>\n",
              "      <td>train_000014</td>\n",
              "      <td>0</td>\n",
              "      <td>\"Săn đc với giá 11k  Toẹt vời\"</td>\n",
              "    </tr>\n",
              "    <tr>\n",
              "      <th>15</th>\n",
              "      <td>train_000015</td>\n",
              "      <td>0</td>\n",
              "      <td>\"OK rất hài lòng\"</td>\n",
              "    </tr>\n",
              "    <tr>\n",
              "      <th>16</th>\n",
              "      <td>train_000016</td>\n",
              "      <td>1</td>\n",
              "      <td>\"Giao thiếu mình cái này rồi shop ơi T^T\"</td>\n",
              "    </tr>\n",
              "    <tr>\n",
              "      <th>17</th>\n",
              "      <td>train_000017</td>\n",
              "      <td>0</td>\n",
              "      <td>\"Chất lượng sản phẩm tuyệt vời tôi rất thích\"</td>\n",
              "    </tr>\n",
              "    <tr>\n",
              "      <th>18</th>\n",
              "      <td>train_000018</td>\n",
              "      <td>0</td>\n",
              "      <td>\"Giày đẹp lắm có điều dây hơi ngắn tí ạ  Chất ...</td>\n",
              "    </tr>\n",
              "    <tr>\n",
              "      <th>19</th>\n",
              "      <td>train_000019</td>\n",
              "      <td>0</td>\n",
              "      <td>\"Yếm vải đẹp nhưng ít mẫu đẹp\"</td>\n",
              "    </tr>\n",
              "  </tbody>\n",
              "</table>\n",
              "</div>"
            ],
            "text/plain": [
              "              id  label                                             review\n",
              "0   train_000000      0  \"Dung dc sp tot cam onshop Đóng gói sản phẩm r...\n",
              "1   train_000001      0  \" Chất lượng sản phẩm tuyệt vời   Son mịn nhưn...\n",
              "2   train_000002      0  \" Chất lượng sản phẩm tuyệt vời nhưng k có hộp...\n",
              "3   train_000003      1  \":(( Mình hơi thất vọng 1 chút vì mình đã kỳ v...\n",
              "4   train_000004      1  \"Lần trước mình mua áo gió màu hồng rất ok mà ...\n",
              "5   train_000005      0  \" Chất lượng sản phẩm tuyệt vời có điều không ...\n",
              "6   train_000006      0  \"Đã nhận đc hàng rất nhanh mới đặt buổi tối mà...\n",
              "7   train_000007      1  \"Các siêu phẩm thấy cấu hình toàn tựa tựa nhau...\n",
              "8   train_000008      0  \"Hàng ship nhanh  chất lượng tốt  tư vấn nhiệt...\n",
              "9   train_000009      1  \"Đồng hồ đẹp nhưng 1 cái đứt dây  1 cái k chạy...\n",
              "10  train_000010      0  \" Chất lượng sản phẩm tuyệt vời y hình chụp đá...\n",
              "11  train_000011      0  \"Hjhj shop giao hàng nhanh quá  Đẹp lắm ạ bé n...\n",
              "12  train_000012      0                            \"\"nhìn đẹp phết nhỉ  \"\"\n",
              "13  train_000013      0  \"Đóng gói rất đẹp  Chất lượng sản phẩm rất tốt...\n",
              "14  train_000014      0                     \"Săn đc với giá 11k  Toẹt vời\"\n",
              "15  train_000015      0                                  \"OK rất hài lòng\"\n",
              "16  train_000016      1          \"Giao thiếu mình cái này rồi shop ơi T^T\"\n",
              "17  train_000017      0      \"Chất lượng sản phẩm tuyệt vời tôi rất thích\"\n",
              "18  train_000018      0  \"Giày đẹp lắm có điều dây hơi ngắn tí ạ  Chất ...\n",
              "19  train_000019      0                     \"Yếm vải đẹp nhưng ít mẫu đẹp\""
            ]
          },
          "metadata": {
            "tags": []
          },
          "execution_count": 6
        }
      ]
    },
    {
      "metadata": {
        "id": "De0i1WP6wVMq",
        "colab_type": "code",
        "outputId": "23855c25-2ff8-488b-fdbb-496231cdc2fb",
        "colab": {
          "base_uri": "https://localhost:8080/",
          "height": 686
        }
      },
      "cell_type": "code",
      "source": [
        "print(\"Test data\")\n",
        "test_data.head(20)"
      ],
      "execution_count": 0,
      "outputs": [
        {
          "output_type": "stream",
          "text": [
            "Test data\n"
          ],
          "name": "stdout"
        },
        {
          "output_type": "execute_result",
          "data": {
            "text/html": [
              "<div>\n",
              "<style scoped>\n",
              "    .dataframe tbody tr th:only-of-type {\n",
              "        vertical-align: middle;\n",
              "    }\n",
              "\n",
              "    .dataframe tbody tr th {\n",
              "        vertical-align: top;\n",
              "    }\n",
              "\n",
              "    .dataframe thead th {\n",
              "        text-align: right;\n",
              "    }\n",
              "</style>\n",
              "<table border=\"1\" class=\"dataframe\">\n",
              "  <thead>\n",
              "    <tr style=\"text-align: right;\">\n",
              "      <th></th>\n",
              "      <th>id</th>\n",
              "      <th>review</th>\n",
              "    </tr>\n",
              "  </thead>\n",
              "  <tbody>\n",
              "    <tr>\n",
              "      <th>0</th>\n",
              "      <td>test_000000</td>\n",
              "      <td>\"Chưa dùng thử nên chưa biết\"</td>\n",
              "    </tr>\n",
              "    <tr>\n",
              "      <th>1</th>\n",
              "      <td>test_000001</td>\n",
              "      <td>\" Không đáng tiềnVì ngay đợt sale nên mới mua ...</td>\n",
              "    </tr>\n",
              "    <tr>\n",
              "      <th>2</th>\n",
              "      <td>test_000002</td>\n",
              "      <td>\"Cám ơn shop. Đóng gói sản phẩm rất đẹp và chắ...</td>\n",
              "    </tr>\n",
              "    <tr>\n",
              "      <th>3</th>\n",
              "      <td>test_000003</td>\n",
              "      <td>\"Vải đẹp.phom oki luôn.quá ưng\"</td>\n",
              "    </tr>\n",
              "    <tr>\n",
              "      <th>4</th>\n",
              "      <td>test_000004</td>\n",
              "      <td>\"Chuẩn hàng đóng gói đẹp\"</td>\n",
              "    </tr>\n",
              "    <tr>\n",
              "      <th>5</th>\n",
              "      <td>test_000005</td>\n",
              "      <td>\" Đóng gói sản phẩm rất đẹp và chắc chắn Shop ...</td>\n",
              "    </tr>\n",
              "    <tr>\n",
              "      <th>6</th>\n",
              "      <td>test_000006</td>\n",
              "      <td>\"Sau khi đọc xong cuốn truyện thì cảm xú...</td>\n",
              "    </tr>\n",
              "    <tr>\n",
              "      <th>7</th>\n",
              "      <td>test_000007</td>\n",
              "      <td>\"Chỉ cảm ứng khi gần dây điện ổ cắm ko có vật ...</td>\n",
              "    </tr>\n",
              "    <tr>\n",
              "      <th>8</th>\n",
              "      <td>test_000008</td>\n",
              "      <td>\"Tệ😡 Sản phẩm đứt chỉ tùm lum😡 Rách quá trời c...</td>\n",
              "    </tr>\n",
              "    <tr>\n",
              "      <th>9</th>\n",
              "      <td>test_000009</td>\n",
              "      <td>\"Shop  Chất lượng sản phẩm rất kém Shop phục v...</td>\n",
              "    </tr>\n",
              "    <tr>\n",
              "      <th>10</th>\n",
              "      <td>test_000010</td>\n",
              "      <td>\"Ad chỉ em cách chỉnh ngày vs\"</td>\n",
              "    </tr>\n",
              "    <tr>\n",
              "      <th>11</th>\n",
              "      <td>test_000011</td>\n",
              "      <td>\"Cắm phát nhận luôn\"</td>\n",
              "    </tr>\n",
              "    <tr>\n",
              "      <th>12</th>\n",
              "      <td>test_000012</td>\n",
              "      <td>\"Chất liệu tốt gói hàng chắc chắn sản phẩm chấ...</td>\n",
              "    </tr>\n",
              "    <tr>\n",
              "      <th>13</th>\n",
              "      <td>test_000013</td>\n",
              "      <td>\"Da mình là hỗn hợp thiên dầu nhạy cảm  sau kh...</td>\n",
              "    </tr>\n",
              "    <tr>\n",
              "      <th>14</th>\n",
              "      <td>test_000014</td>\n",
              "      <td>\"Dù rep ib hơi chậm nhưng chất lượng sản phẩm ...</td>\n",
              "    </tr>\n",
              "    <tr>\n",
              "      <th>15</th>\n",
              "      <td>test_000015</td>\n",
              "      <td>\"Ban đầu mua về mẫu mã thì đẹp  nhưng không đư...</td>\n",
              "    </tr>\n",
              "    <tr>\n",
              "      <th>16</th>\n",
              "      <td>test_000016</td>\n",
              "      <td>\" Chất lượng sản phẩm tuyệt vời Chất lượng sản...</td>\n",
              "    </tr>\n",
              "    <tr>\n",
              "      <th>17</th>\n",
              "      <td>test_000017</td>\n",
              "      <td>\" Chất lượng sản phẩm tuyệt vời. Hàng test ra ...</td>\n",
              "    </tr>\n",
              "    <tr>\n",
              "      <th>18</th>\n",
              "      <td>test_000018</td>\n",
              "      <td>\" Chất lượng sản phẩm tuyệt vời 💖Đóng gói sản ...</td>\n",
              "    </tr>\n",
              "    <tr>\n",
              "      <th>19</th>\n",
              "      <td>test_000019</td>\n",
              "      <td>\"Size hơi nhỏ so với số ký.  Chất lượng sản ph...</td>\n",
              "    </tr>\n",
              "  </tbody>\n",
              "</table>\n",
              "</div>"
            ],
            "text/plain": [
              "             id                                             review\n",
              "0   test_000000                      \"Chưa dùng thử nên chưa biết\"\n",
              "1   test_000001  \" Không đáng tiềnVì ngay đợt sale nên mới mua ...\n",
              "2   test_000002  \"Cám ơn shop. Đóng gói sản phẩm rất đẹp và chắ...\n",
              "3   test_000003                    \"Vải đẹp.phom oki luôn.quá ưng\"\n",
              "4   test_000004                          \"Chuẩn hàng đóng gói đẹp\"\n",
              "5   test_000005  \" Đóng gói sản phẩm rất đẹp và chắc chắn Shop ...\n",
              "6   test_000006  \"Sau khi đọc xong cuốn truyện thì cảm xú...\n",
              "7   test_000007  \"Chỉ cảm ứng khi gần dây điện ổ cắm ko có vật ...\n",
              "8   test_000008  \"Tệ😡 Sản phẩm đứt chỉ tùm lum😡 Rách quá trời c...\n",
              "9   test_000009  \"Shop  Chất lượng sản phẩm rất kém Shop phục v...\n",
              "10  test_000010                     \"Ad chỉ em cách chỉnh ngày vs\"\n",
              "11  test_000011                               \"Cắm phát nhận luôn\"\n",
              "12  test_000012  \"Chất liệu tốt gói hàng chắc chắn sản phẩm chấ...\n",
              "13  test_000013  \"Da mình là hỗn hợp thiên dầu nhạy cảm  sau kh...\n",
              "14  test_000014  \"Dù rep ib hơi chậm nhưng chất lượng sản phẩm ...\n",
              "15  test_000015  \"Ban đầu mua về mẫu mã thì đẹp  nhưng không đư...\n",
              "16  test_000016  \" Chất lượng sản phẩm tuyệt vời Chất lượng sản...\n",
              "17  test_000017  \" Chất lượng sản phẩm tuyệt vời. Hàng test ra ...\n",
              "18  test_000018  \" Chất lượng sản phẩm tuyệt vời 💖Đóng gói sản ...\n",
              "19  test_000019  \"Size hơi nhỏ so với số ký.  Chất lượng sản ph..."
            ]
          },
          "metadata": {
            "tags": []
          },
          "execution_count": 8
        }
      ]
    },
    {
      "metadata": {
        "id": "N-HVE85ZfpJo",
        "colab_type": "text"
      },
      "cell_type": "markdown",
      "source": [
        "**4. Trích chọn đặc trưng**"
      ]
    },
    {
      "metadata": {
        "id": "AaIw50EZOYER",
        "colab_type": "code",
        "colab": {}
      },
      "cell_type": "code",
      "source": [
        "vectorizer = TfidfVectorizer(max_features=100000, ngram_range=(1, 3))\n",
        "\n",
        "x_train, x_val, y_train, y_val = train_test_split(train_data.review, train_data.label, test_size=0.2,\n",
        "                                                  random_state=42)\n",
        "\n",
        "vectorizer.fit(x_train)\n",
        "x_tfidf_train = vectorizer.transform(x_train)\n",
        "x_tfidf_val = vectorizer.transform(x_val)\n"
      ],
      "execution_count": 0,
      "outputs": []
    },
    {
      "metadata": {
        "id": "fjxRYmdPf2lf",
        "colab_type": "text"
      },
      "cell_type": "markdown",
      "source": [
        "**5. Build model**"
      ]
    },
    {
      "metadata": {
        "id": "xpKHbz2dRl0M",
        "colab_type": "code",
        "outputId": "bdc14ec2-48c1-46c2-e1f2-ef3f50f65ade",
        "colab": {
          "base_uri": "https://localhost:8080/",
          "height": 122
        }
      },
      "cell_type": "code",
      "source": [
        "model = LogisticRegression()\n",
        "print(\"Train model.......\")\n",
        "sentiment_fit = model.fit(x_tfidf_train, y_train)\n",
        "print(\"Predict ......\")\n",
        "y_pred = sentiment_fit.predict(x_tfidf_val)\n",
        "accuracy = accuracy_score(y_val, y_pred)\n",
        "print(\"accuracy score: {0:.2f}%\".format(accuracy * 100))"
      ],
      "execution_count": 18,
      "outputs": [
        {
          "output_type": "stream",
          "text": [
            "Train model.......\n"
          ],
          "name": "stdout"
        },
        {
          "output_type": "stream",
          "text": [
            "/usr/local/lib/python3.6/dist-packages/sklearn/linear_model/logistic.py:433: FutureWarning: Default solver will be changed to 'lbfgs' in 0.22. Specify a solver to silence this warning.\n",
            "  FutureWarning)\n"
          ],
          "name": "stderr"
        },
        {
          "output_type": "stream",
          "text": [
            "Predict ......\n",
            "accuracy score: 88.63%\n"
          ],
          "name": "stdout"
        }
      ]
    },
    {
      "metadata": {
        "id": "GamNWcMHu9RO",
        "colab_type": "text"
      },
      "cell_type": "markdown",
      "source": [
        "# **6. Dự đoán**"
      ]
    },
    {
      "metadata": {
        "id": "8hWGjHikuqW9",
        "colab_type": "code",
        "colab": {}
      },
      "cell_type": "code",
      "source": [
        "x_tfidf_test = vectorizer.transform(test_data.review)\n",
        "y_predict = sentiment_fit.predict(x_tfidf_test)\n",
        "test_data['label'] = y_predict\n",
        "test_data[['id', 'label']].to_csv('sample.csv', index=False)"
      ],
      "execution_count": 0,
      "outputs": []
    },
    {
      "metadata": {
        "id": "rAgl3Np9xNmv",
        "colab_type": "code",
        "outputId": "428b6fec-f99b-4caf-a3e2-8c8919470790",
        "colab": {
          "base_uri": "https://localhost:8080/",
          "height": 1105
        }
      },
      "cell_type": "code",
      "source": [
        "print(test_data)"
      ],
      "execution_count": 20,
      "outputs": [
        {
          "output_type": "stream",
          "text": [
            "                id                                             review  label\n",
            "0      test_000000                      \"Chưa dùng thử nên chưa biết\"      0\n",
            "1      test_000001  \" Không đáng tiềnVì ngay đợt sale nên mới mua ...      1\n",
            "2      test_000002  \"Cám ơn shop. Đóng gói sản phẩm rất đẹp và chắ...      0\n",
            "3      test_000003                    \"Vải đẹp.phom oki luôn.quá ưng\"      0\n",
            "4      test_000004                          \"Chuẩn hàng đóng gói đẹp\"      0\n",
            "5      test_000005  \" Đóng gói sản phẩm rất đẹp và chắc chắn Shop ...      0\n",
            "6      test_000006  \"Sau khi đọc xong cuốn truyện thì cảm xú...      1\n",
            "7      test_000007  \"Chỉ cảm ứng khi gần dây điện ổ cắm ko có vật ...      1\n",
            "8      test_000008  \"Tệ😡 Sản phẩm đứt chỉ tùm lum😡 Rách quá trời c...      1\n",
            "9      test_000009  \"Shop  Chất lượng sản phẩm rất kém Shop phục v...      1\n",
            "10     test_000010                     \"Ad chỉ em cách chỉnh ngày vs\"      1\n",
            "11     test_000011                               \"Cắm phát nhận luôn\"      0\n",
            "12     test_000012  \"Chất liệu tốt gói hàng chắc chắn sản phẩm chấ...      0\n",
            "13     test_000013  \"Da mình là hỗn hợp thiên dầu nhạy cảm  sau kh...      1\n",
            "14     test_000014  \"Dù rep ib hơi chậm nhưng chất lượng sản phẩm ...      1\n",
            "15     test_000015  \"Ban đầu mua về mẫu mã thì đẹp  nhưng không đư...      1\n",
            "16     test_000016  \" Chất lượng sản phẩm tuyệt vời Chất lượng sản...      0\n",
            "17     test_000017  \" Chất lượng sản phẩm tuyệt vời. Hàng test ra ...      0\n",
            "18     test_000018  \" Chất lượng sản phẩm tuyệt vời 💖Đóng gói sản ...      0\n",
            "19     test_000019  \"Size hơi nhỏ so với số ký.  Chất lượng sản ph...      0\n",
            "20     test_000020  \"Shop làm việc an tâmcó lòng vs hàng rất tốt....\"      0\n",
            "21     test_000021  \"Shop chuyên chỉnh giá về 20k và lập nick rác ...      1\n",
            "22     test_000022  \"Giày cực kì ok.... Lúc đầu mua cũng sợ da bị ...      0\n",
            "23     test_000023                                       \"Hơi bị mặn\"      0\n",
            "24     test_000024  \"Sản phẩm mới mua mà đã mất vân tay.chơi game ...      1\n",
            "25     test_000025  \"sản phẩm trên hình chỉ là minh họa chứ ngoài ...      1\n",
            "26     test_000026  \"Yêu dã man luôn í. 5 màu màu nào cũng đẹp ko ...      0\n",
            "27     test_000027                \"Tien nao cua do tam chap nhan dc.\"      1\n",
            "28     test_000028  \"Đồng hồ giống hình..nhỏ nhỏ xinh xinh... Đóng...      0\n",
            "29     test_000029  \"Phục vụ rất kém! Đã phân loại cho khách thì g...      1\n",
            "...            ...                                                ...    ...\n",
            "10951  test_010951  \" Thời gian giao hàng rất nhanh. Lần đầu mua h...      0\n",
            "10952  test_010952  \"Gà chưa vàng.gia vị chưa thấm.đặt loại cay mà...      1\n",
            "10953  test_010953  \" Chất lượng sản phẩm tuyệt vời Đóng gói sản p...      0\n",
            "10954  test_010954  \"Sữa tắm không thơm lắm giao hàng nhanh đóng g...      0\n",
            "10955  test_010955  \"Mới giao mà nút chai dầu gội đã bị gãy  Chất ...      1\n",
            "10956  test_010956  \"Giao hàng nhanh. Shop nhjet tình. Máy thì siê...      0\n",
            "10957  test_010957                        \" Shop phục vụ nhiệt tình \"      0\n",
            "10958  test_010958  \"Sản phẩm bị móp khi vận chuyển nhắn tin shop ...      1\n",
            "10959  test_010959  \" Chất lượng sản phẩm tuyệt vời Đóng gói sản p...      0\n",
            "10960  test_010960                             \"Cốm ngon tuyệt......\"      0\n",
            "10961  test_010961                                     \"Gói hàng kém\"      1\n",
            "10962  test_010962                                     \"Chuẩn mẫu.  \"      0\n",
            "10963  test_010963  \"shop lam an k có tâm.đặt đơn 99k thi giao han...      1\n",
            "10964  test_010964  \"Nhận hàng xong là dùng thử luôn cảm giác ban ...      0\n",
            "10965  test_010965  \" Chất lượng sản phẩm tuyệt vời đúng như hình \"      0\n",
            "10966  test_010966         \"Ko thơm bằng loại màu hồng mua ở bibomar\"      1\n",
            "10967  test_010967  \"Nước giặt không có tem chính hãng nhãn dán lỏ...      1\n",
            "10968  test_010968  \"Hôm nay mình xin không hài lòng vs nty shop v...      0\n",
            "10969  test_010969                         \"Shop gói hàng siêu kĩ ^^\"      0\n",
            "10970  test_010970  \"Giao hàng lâu. Sai màu . Nhanh trôi. Hóng mãi...      1\n",
            "10971  test_010971                      \"Sản phẩm đẹp đúng như hình.\"      0\n",
            "10972  test_010972  \" Chất lượng sản phẩm rất kém. Kh biết tại t x...      1\n",
            "10973  test_010973  \" Chất lượng sản phẩm tuyệt vời Đóng gói sản p...      0\n",
            "10974  test_010974                           \"Shop phục vụ rất tốt. \"      0\n",
            "10975  test_010975     \"Bé mặc ko vừa mình muốn đổi size thanks shop\"      1\n",
            "10976  test_010976  \" Thời gian giao hàng rất nhanh.ngon.mà cay qu...      0\n",
            "10977  test_010977                                  \"Sản phẩm hơi cũ\"      0\n",
            "10978  test_010978  \"Sản phẩm chắc chắn nhưng k bóng bằng trong hình\"      0\n",
            "10979  test_010979  \" Chất lượng sản phẩm tuyệt vời có mùi thơm rấ...      0\n",
            "10980  test_010980                       \"như quảng cáo. sim rất tốt\"      0\n",
            "\n",
            "[10981 rows x 3 columns]\n"
          ],
          "name": "stdout"
        }
      ]
    },
    {
      "metadata": {
        "id": "X4u2e5wrT6G2",
        "colab_type": "text"
      },
      "cell_type": "markdown",
      "source": [
        "** 7.Test trực quan**"
      ]
    },
    {
      "metadata": {
        "id": "O9gEO1wtT84h",
        "colab_type": "code",
        "colab": {
          "base_uri": "https://localhost:8080/",
          "height": 238
        },
        "outputId": "5156fe6f-fa5f-4f17-aa01-241d75191e1e"
      },
      "cell_type": "code",
      "source": [
        "testTQ_data = {'review': [\"hàng đẹp\", \"hàng tàu\", \"hàng khựa\", \"xấu quá\", \"nhìn kì quá\", \"không đúng size\", \"thái độ lồi lõm quá\", \"shiper đẹp trai\", \"khá bảnh\", \"lởm\", \"trá hình\", \"kèo thơm\"]}\n",
        "test_review = pd.DataFrame(data=testTQ_data)\n",
        "x_test = vectorizer.transform(test_review.review)\n",
        "y_test_predict = sentiment_fit.predict(x_test)\n",
        "test_review['label'] = y_test_predict\n",
        "print(test_review)"
      ],
      "execution_count": 24,
      "outputs": [
        {
          "output_type": "stream",
          "text": [
            "                 review  label\n",
            "0              hàng đẹp      0\n",
            "1              hàng tàu      1\n",
            "2             hàng khựa      0\n",
            "3               xấu quá      1\n",
            "4           nhìn kì quá      1\n",
            "5       không đúng size      1\n",
            "6   thái độ lồi lõm quá      1\n",
            "7       shiper đẹp trai      0\n",
            "8              khá bảnh      0\n",
            "9                   lởm      1\n",
            "10             trá hình      0\n",
            "11             kèo thơm      0\n"
          ],
          "name": "stdout"
        }
      ]
    }
  ]
}