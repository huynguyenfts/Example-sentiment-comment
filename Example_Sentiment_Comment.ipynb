{
  "nbformat": 4,
  "nbformat_minor": 0,
  "metadata": {
    "colab": {
      "name": "Example-Sentiment-Comment.ipynb",
      "version": "0.3.2",
      "provenance": [],
      "collapsed_sections": [],
      "include_colab_link": true
    },
    "kernelspec": {
      "name": "python3",
      "display_name": "Python 3"
    }
  },
  "cells": [
    {
      "cell_type": "markdown",
      "metadata": {
        "id": "view-in-github",
        "colab_type": "text"
      },
      "source": [
        "<a href=\"https://colab.research.google.com/github/huynguyenfts/Example-sentiment-comment/blob/master/Example_Sentiment_Comment.ipynb\" target=\"_parent\"><img src=\"https://colab.research.google.com/assets/colab-badge.svg\" alt=\"Open In Colab\"/></a>"
      ]
    },
    {
      "metadata": {
        "id": "I-BDiPlHNBVG",
        "colab_type": "text"
      },
      "cell_type": "markdown",
      "source": [
        "**1. Clone git repo **"
      ]
    },
    {
      "metadata": {
        "id": "rB8BmlM0jnPR",
        "colab_type": "code",
        "colab": {}
      },
      "cell_type": "code",
      "source": [
        ""
      ],
      "execution_count": 0,
      "outputs": []
    },
    {
      "metadata": {
        "id": "4qeHRBGyLdVe",
        "colab_type": "code",
        "outputId": "968d9985-c23e-43e7-b363-039de01bfe7b",
        "colab": {
          "base_uri": "https://localhost:8080/",
          "height": 119
        }
      },
      "cell_type": "code",
      "source": [
        "!pip install -q xlrd\n",
        "!git clone https://github.com/huynguyenfts/Example-sentiment-comment.git"
      ],
      "execution_count": 0,
      "outputs": [
        {
          "output_type": "stream",
          "text": [
            "Cloning into 'Example-sentiment-comment'...\n",
            "remote: Enumerating objects: 19, done.\u001b[K\n",
            "remote: Counting objects:   5% (1/19)   \u001b[K\rremote: Counting objects:  10% (2/19)   \u001b[K\rremote: Counting objects:  15% (3/19)   \u001b[K\rremote: Counting objects:  21% (4/19)   \u001b[K\rremote: Counting objects:  26% (5/19)   \u001b[K\rremote: Counting objects:  31% (6/19)   \u001b[K\rremote: Counting objects:  36% (7/19)   \u001b[K\rremote: Counting objects:  42% (8/19)   \u001b[K\rremote: Counting objects:  47% (9/19)   \u001b[K\rremote: Counting objects:  52% (10/19)   \u001b[K\rremote: Counting objects:  57% (11/19)   \u001b[K\rremote: Counting objects:  63% (12/19)   \u001b[K\rremote: Counting objects:  68% (13/19)   \u001b[K\rremote: Counting objects:  73% (14/19)   \u001b[K\rremote: Counting objects:  78% (15/19)   \u001b[K\rremote: Counting objects:  84% (16/19)   \u001b[K\rremote: Counting objects:  89% (17/19)   \u001b[K\rremote: Counting objects:  94% (18/19)   \u001b[K\rremote: Counting objects: 100% (19/19)   \u001b[K\rremote: Counting objects: 100% (19/19), done.\u001b[K\n",
            "remote: Compressing objects:   6% (1/15)   \u001b[K\rremote: Compressing objects:  13% (2/15)   \u001b[K\rremote: Compressing objects:  20% (3/15)   \u001b[K\rremote: Compressing objects:  26% (4/15)   \u001b[K\rremote: Compressing objects:  33% (5/15)   \u001b[K\rremote: Compressing objects:  40% (6/15)   \u001b[K\rremote: Compressing objects:  46% (7/15)   \u001b[K\rremote: Compressing objects:  53% (8/15)   \u001b[K\rremote: Compressing objects:  60% (9/15)   \u001b[K\rremote: Compressing objects:  66% (10/15)   \u001b[K\rremote: Compressing objects:  73% (11/15)   \u001b[K\rremote: Compressing objects:  80% (12/15)   \u001b[K\rremote: Compressing objects:  86% (13/15)   \u001b[K\rremote: Compressing objects:  93% (14/15)   \u001b[K\rremote: Compressing objects: 100% (15/15)   \u001b[K\rremote: Compressing objects: 100% (15/15), done.\u001b[K\n",
            "Unpacking objects:   5% (1/19)   \rUnpacking objects:  10% (2/19)   \rUnpacking objects:  15% (3/19)   \rUnpacking objects:  21% (4/19)   \rUnpacking objects:  26% (5/19)   \rUnpacking objects:  31% (6/19)   \rUnpacking objects:  36% (7/19)   \rUnpacking objects:  42% (8/19)   \rUnpacking objects:  47% (9/19)   \rUnpacking objects:  52% (10/19)   \rUnpacking objects:  57% (11/19)   \rUnpacking objects:  63% (12/19)   \rUnpacking objects:  68% (13/19)   \rUnpacking objects:  73% (14/19)   \rUnpacking objects:  78% (15/19)   \rremote: Total 19 (delta 5), reused 13 (delta 2), pack-reused 0\u001b[K\n",
            "Unpacking objects:  84% (16/19)   \rUnpacking objects:  89% (17/19)   \rUnpacking objects:  94% (18/19)   \rUnpacking objects: 100% (19/19)   \rUnpacking objects: 100% (19/19), done.\n"
          ],
          "name": "stdout"
        }
      ]
    },
    {
      "metadata": {
        "id": "ARW92OvdNM2G",
        "colab_type": "code",
        "outputId": "6c9f3668-70c4-47c9-8eea-d8d17a179e4d",
        "colab": {
          "base_uri": "https://localhost:8080/",
          "height": 68
        }
      },
      "cell_type": "code",
      "source": [
        "!ls"
      ],
      "execution_count": 0,
      "outputs": [
        {
          "output_type": "stream",
          "text": [
            "basedline_model.py\t\t README.md\t\t  submission.csv\n",
            "Example-sentiment-comment\t sample.csv\t\t  test.crash\n",
            "Example_Sentiment_Comment.ipynb  sentiment_comment.ipynb  train.crash\n"
          ],
          "name": "stdout"
        }
      ]
    },
    {
      "metadata": {
        "id": "RmkbyN1CYlA3",
        "colab_type": "code",
        "outputId": "28205f84-c5e0-4f95-bba8-c7cad25f4e85",
        "colab": {
          "base_uri": "https://localhost:8080/",
          "height": 85
        }
      },
      "cell_type": "code",
      "source": [
        "%cd Example-sentiment-comment\n",
        "!ls"
      ],
      "execution_count": 0,
      "outputs": [
        {
          "output_type": "stream",
          "text": [
            "/content/Example-sentiment-comment\n",
            "basedline_model.py\t\t sample.csv\t\t  test.crash\n",
            "Example_Sentiment_Comment.ipynb  sentiment_comment.ipynb  train.crash\n",
            "README.md\t\t\t submission.csv\n"
          ],
          "name": "stdout"
        }
      ]
    },
    {
      "metadata": {
        "id": "BViaLe2qauZm",
        "colab_type": "text"
      },
      "cell_type": "markdown",
      "source": [
        "**2. Import thư viện**"
      ]
    },
    {
      "metadata": {
        "id": "_wNJX1uEOATJ",
        "colab_type": "code",
        "colab": {}
      },
      "cell_type": "code",
      "source": [
        "import pandas as pd\n",
        "from sklearn.linear_model import LogisticRegression, RidgeClassifier\n",
        "from sklearn.metrics import accuracy_score\n",
        "from sklearn.feature_extraction.text import TfidfVectorizer\n",
        "from sklearn.model_selection import train_test_split"
      ],
      "execution_count": 0,
      "outputs": []
    },
    {
      "metadata": {
        "id": "wjMjI8XAadpw",
        "colab_type": "text"
      },
      "cell_type": "markdown",
      "source": [
        "\b**3. Xử Lý data**"
      ]
    },
    {
      "metadata": {
        "id": "SJNgjjz9ODgH",
        "colab_type": "code",
        "colab": {}
      },
      "cell_type": "code",
      "source": [
        "class DataSource(object):\n",
        "\n",
        "    def _load_raw_data(self, filename, is_train=True):\n",
        "\n",
        "        a = []\n",
        "        b = []\n",
        "\n",
        "        regex = 'train_'\n",
        "        if not is_train:\n",
        "            regex = 'test_'\n",
        "\n",
        "        with open(filename, 'r') as file:\n",
        "            for line in file:\n",
        "                if regex in line:\n",
        "                    b.append(a)\n",
        "                    a = [line]\n",
        "                elif line != '\\n':\n",
        "                    a.append(line)\n",
        "\n",
        "        b.append(a)\n",
        "\n",
        "        return b[1:]\n",
        "\n",
        "    def _create_row(self, sample, is_train=True, dont_remove_space=True):\n",
        "\n",
        "        d = {}\n",
        "        d['id'] = sample[0].replace('\\n', '')\n",
        "        review = \"\"\n",
        "\n",
        "        if is_train:\n",
        "            for clause in sample[1:-1]:\n",
        "                review += clause.replace('\\n', '').strip()\n",
        "            d['label'] = int(sample[-1].replace('\\n', ''))\n",
        "        else:\n",
        "            for clause in sample[1:]:\n",
        "                review += clause.replace('\\n', '').strip()\n",
        "\n",
        "        d['review'] = review\n",
        "\n",
        "        return d\n",
        "\n",
        "    def load_data(self, filename, is_train=True):\n",
        "\n",
        "        raw_data = self._load_raw_data(filename, is_train)\n",
        "        lst = []\n",
        "\n",
        "        for row in raw_data:\n",
        "            lst.append(self._create_row(row, is_train))\n",
        "\n",
        "        return lst\n"
      ],
      "execution_count": 0,
      "outputs": []
    },
    {
      "metadata": {
        "id": "N-HVE85ZfpJo",
        "colab_type": "text"
      },
      "cell_type": "markdown",
      "source": [
        "**4. Tiền xử lý data**"
      ]
    },
    {
      "metadata": {
        "id": "AaIw50EZOYER",
        "colab_type": "code",
        "colab": {}
      },
      "cell_type": "code",
      "source": [
        "ds = DataSource()\n",
        "train_data = pd.DataFrame(ds.load_data('train.crash'))\n",
        "test_data = pd.DataFrame(ds.load_data('test.crash', is_train=False))\n",
        "\n",
        "vectorizer = TfidfVectorizer(max_features=100000, ngram_range=(1, 3))\n",
        "\n",
        "x_train, x_val, y_train, y_val = train_test_split(train_data.review, train_data.label, test_size=0.2,\n",
        "                                                  random_state=42)\n",
        "\n",
        "vectorizer.fit(x_train)\n",
        "x_tfidf_train = vectorizer.transform(x_train)\n",
        "x_tfidf_val = vectorizer.transform(x_val)\n"
      ],
      "execution_count": 0,
      "outputs": []
    },
    {
      "metadata": {
        "id": "fjxRYmdPf2lf",
        "colab_type": "text"
      },
      "cell_type": "markdown",
      "source": [
        "**5. Build model**"
      ]
    },
    {
      "metadata": {
        "id": "xpKHbz2dRl0M",
        "colab_type": "code",
        "outputId": "16866dca-ea79-4800-c605-8c5a0f5dfefe",
        "colab": {
          "base_uri": "https://localhost:8080/",
          "height": 122
        }
      },
      "cell_type": "code",
      "source": [
        "model = LogisticRegression()\n",
        "print(\"Train model.......\")\n",
        "sentiment_fit = model.fit(x_tfidf_train, y_train)\n",
        "print(\"Predict ......\")\n",
        "y_pred = sentiment_fit.predict(x_tfidf_val)\n",
        "accuracy = accuracy_score(y_val, y_pred)\n",
        "print(\"accuracy score: {0:.2f}%\".format(accuracy * 100))"
      ],
      "execution_count": 0,
      "outputs": [
        {
          "output_type": "stream",
          "text": [
            "Train model.......\n"
          ],
          "name": "stdout"
        },
        {
          "output_type": "stream",
          "text": [
            "/usr/local/lib/python3.6/dist-packages/sklearn/linear_model/logistic.py:433: FutureWarning: Default solver will be changed to 'lbfgs' in 0.22. Specify a solver to silence this warning.\n",
            "  FutureWarning)\n"
          ],
          "name": "stderr"
        },
        {
          "output_type": "stream",
          "text": [
            "Predict ......\n",
            "accuracy score: 88.63%\n"
          ],
          "name": "stdout"
        }
      ]
    }
  ]
}